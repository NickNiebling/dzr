{
 "cells": [
  {
   "cell_type": "code",
   "execution_count": 1,
   "metadata": {},
   "outputs": [],
   "source": [
    "import xml.etree.ElementTree as ET\n",
    "import datetime"
   ]
  },
  {
   "cell_type": "code",
   "execution_count": 2,
   "metadata": {},
   "outputs": [],
   "source": [
    "# Parse the XML file\n",
    "tree = ET.parse(r'C:\\Users\\Chris\\OneDrive\\Dokumenter\\React\\dzr\\public\\in-the-zone-2\\InTheZone2_1.zwo')\n",
    "# Get the root element\n",
    "root = tree.getroot()"
   ]
  },
  {
   "cell_type": "code",
   "execution_count": 3,
   "metadata": {},
   "outputs": [
    {
     "name": "stdout",
     "output_type": "stream",
     "text": [
      "author {}\n",
      "name {}\n",
      "description {}\n",
      "sportType {}\n",
      "tags {}\n",
      "\t tag {'name': 'ZONE2'}\n",
      "\t None\n",
      "workout {}\n",
      "\t SteadyState {'Duration': '150', 'Power': '0.5', 'pace': '0'}\n",
      "\t \n",
      "            \n",
      "\t SteadyState {'Duration': '60.000004', 'Power': '0.60000002', 'pace': '0'}\n",
      "\t \n",
      "            \n",
      "\t SteadyState {'Duration': '60.000004', 'Power': '0.64999998', 'pace': '0'}\n",
      "\t \n",
      "            \n",
      "\t SteadyState {'Duration': '60.000004', 'Power': '0.81', 'pace': '0'}\n",
      "\t \n",
      "            \n",
      "\t SteadyState {'Duration': '60.000004', 'Power': '0.94999999', 'pace': '0'}\n",
      "\t \n",
      "            \n",
      "\t SteadyState {'Duration': '120.00001', 'Power': '0.5', 'pace': '0'}\n",
      "\t \n",
      "            \n",
      "\t SteadyState {'Duration': '240.00002', 'Power': '0.80000001', 'pace': '0'}\n",
      "\t \n",
      "            \n",
      "\t SteadyState {'Duration': '120', 'Power': '0.5', 'pace': '0'}\n",
      "\t \n",
      "            \n",
      "\t Ramp {'Duration': '360', 'PowerLow': '0.51930803', 'PowerHigh': '0.69999993', 'pace': '0'}\n",
      "\t \n",
      "            \n",
      "\t SteadyState {'Duration': '180.00002', 'Power': '0.69999999', 'pace': '0'}\n",
      "\t \n",
      "            \n",
      "\t Ramp {'Duration': '420.00003', 'PowerLow': '0.60000002', 'PowerHigh': '0.69999993', 'pace': '0'}\n",
      "\t \n",
      "            \n",
      "\t Ramp {'Duration': '420', 'PowerLow': '0.60000002', 'PowerHigh': '0.75', 'pace': '0'}\n",
      "\t \n",
      "            \n",
      "\t SteadyState {'Duration': '300', 'Power': '0.75', 'pace': '0'}\n",
      "\t \n",
      "            \n",
      "\t Ramp {'Duration': '390', 'PowerLow': '0.65149999', 'PowerHigh': '0.75150001', 'pace': '0'}\n",
      "\t \n",
      "            \n",
      "\t SteadyState {'Duration': '120.00001', 'Power': '0.625', 'pace': '0'}\n",
      "\t \n",
      "            \n",
      "\t SteadyState {'Duration': '120.00001', 'Power': '0.69999999', 'pace': '0', 'Cadence': '60'}\n",
      "\t \n",
      "            \n",
      "\t SteadyState {'Duration': '60.000004', 'Power': '0.69999999', 'pace': '0', 'Cadence': '75'}\n",
      "\t \n",
      "            \n",
      "\t SteadyState {'Duration': '60.000004', 'Power': '0.69999999', 'pace': '0', 'Cadence': '90'}\n",
      "\t \n",
      "            \n",
      "\t SteadyState {'Duration': '60.000004', 'Power': '0.69999999', 'pace': '0', 'Cadence': '100'}\n",
      "\t \n",
      "            \n",
      "\t SteadyState {'Duration': '60.000004', 'Power': '0.69999999', 'pace': '0', 'Cadence': '90'}\n",
      "\t \n",
      "            \n",
      "\t SteadyState {'Duration': '60.000004', 'Power': '0.69999999', 'pace': '0', 'Cadence': '75'}\n",
      "\t \n",
      "            \n",
      "\t SteadyState {'Duration': '120.00001', 'Power': '0.69999999', 'pace': '0', 'Cadence': '60'}\n",
      "\t \n",
      "            \n",
      "\t SteadyState {'Duration': '120', 'Power': '0.625', 'pace': '0'}\n",
      "\t None\n",
      "\t SteadyState {'Duration': '120.00001', 'Power': '0.69999999', 'pace': '0'}\n",
      "\t \n",
      "            \n",
      "\t SteadyState {'Duration': '60.000004', 'Power': '0.69999999', 'pace': '0', 'Cadence': '75'}\n",
      "\t \n",
      "            \n",
      "\t SteadyState {'Duration': '60.000004', 'Power': '0.69999999', 'pace': '0', 'Cadence': '90'}\n",
      "\t \n",
      "            \n",
      "\t SteadyState {'Duration': '60.000004', 'Power': '0.69999999', 'pace': '0', 'Cadence': '100'}\n",
      "\t \n",
      "            \n",
      "\t SteadyState {'Duration': '60.000004', 'Power': '0.69999999', 'pace': '0', 'Cadence': '90'}\n",
      "\t \n",
      "            \n",
      "\t SteadyState {'Duration': '60.000004', 'Power': '0.69999999', 'pace': '0', 'Cadence': '75'}\n",
      "\t \n",
      "            \n",
      "\t SteadyState {'Duration': '120.00001', 'Power': '0.69999999', 'pace': '0', 'Cadence': '60'}\n",
      "\t \n",
      "            \n",
      "\t SteadyState {'Duration': '120', 'Power': '0.625', 'pace': '0'}\n",
      "\t None\n",
      "\t SteadyState {'Duration': '120.00001', 'Power': '0.69999999', 'pace': '0', 'Cadence': '60'}\n",
      "\t \n",
      "            \n",
      "\t SteadyState {'Duration': '60.000004', 'Power': '0.69999999', 'pace': '0', 'Cadence': '75'}\n",
      "\t \n",
      "            \n",
      "\t SteadyState {'Duration': '60.000004', 'Power': '0.69999999', 'pace': '0', 'Cadence': '90'}\n",
      "\t \n",
      "            \n",
      "\t SteadyState {'Duration': '60.000004', 'Power': '0.69999999', 'pace': '0', 'Cadence': '100'}\n",
      "\t \n",
      "            \n",
      "\t SteadyState {'Duration': '60.000004', 'Power': '0.69999999', 'pace': '0', 'Cadence': '90'}\n",
      "\t \n",
      "            \n",
      "\t SteadyState {'Duration': '60.000004', 'Power': '0.69999999', 'pace': '0', 'Cadence': '75'}\n",
      "\t \n",
      "            \n",
      "\t SteadyState {'Duration': '120', 'Power': '0.69999999', 'pace': '0', 'Cadence': '60'}\n",
      "\t None\n",
      "\t SteadyState {'Duration': '120', 'Power': '0.625', 'pace': '0'}\n",
      "\t \n",
      "            \n",
      "\t IntervalsT {'Repeat': '4', 'OnDuration': '120', 'OffDuration': '120', 'OnPower': '0.75', 'OffPower': '0.69999999', 'pace': '0', 'OverUnder': '1'}\n",
      "\t None\n",
      "\t SteadyState {'Duration': '120', 'Power': '0.625', 'pace': '0'}\n",
      "\t \n",
      "            \n",
      "\t IntervalsT {'Repeat': '3', 'OnDuration': '180', 'OffDuration': '120', 'OnPower': '0.75', 'OffPower': '0.69999999', 'pace': '0', 'OverUnder': '1'}\n",
      "\t None\n",
      "\t Cooldown {'Duration': '180.00002', 'PowerLow': '0.64999998', 'PowerHigh': '0.5', 'pace': '0'}\n",
      "\t None\n"
     ]
    }
   ],
   "source": [
    "# Iterate over elements\n",
    "for child in root:\n",
    "    print(child.tag, child.attrib)\n",
    "    for sub_child in child:\n",
    "        print(\"\\t\", sub_child.tag, sub_child.attrib)\n",
    "        # Access text content of elements if necessary\n",
    "        print(\"\\t\", sub_child.text)"
   ]
  },
  {
   "cell_type": "code",
   "execution_count": 5,
   "metadata": {},
   "outputs": [],
   "source": [
    "def parse_workout_file(xml_file):\n",
    "    tree = ET.parse(xml_file)\n",
    "    root = tree.getroot()\n",
    "\n",
    "    workout_data = []\n",
    "    intervals = []\n",
    "    tagsToFind = ['SteadyState','Ramp','IntervalsT','Cooldown']\n",
    "    for element in root.find(\".//workout\"):\n",
    "        if element.tag in tagsToFind:\n",
    "            intervals.append(element)\n",
    "    \n",
    "    for interval in intervals:\n",
    "        type = interval.tag\n",
    "        duration = interval.attrib.get(\"Duration\")\n",
    "        power = interval.attrib.get(\"Power\")\n",
    "        power_low = interval.attrib.get(\"PowerLow\")\n",
    "        power_high = interval.attrib.get(\"PowerHigh\")\n",
    "        onPower = interval.get('OnPower', None)\n",
    "        offPower = interval.get('OffPower', None)\n",
    "        onDuration = interval.get('OnDuration', None)\n",
    "        offDuration = interval.get('OffDuration', None)\n",
    "        repeat = interval.get('Repeat', None)\n",
    "\n",
    "        # Convert attributes to float if they exist\n",
    "        if duration is not None:\n",
    "            duration = float(duration)\n",
    "        if power is not None:\n",
    "            power = float(power)\n",
    "        if power_low is not None:\n",
    "            power_low = float(power_low)\n",
    "        if power_high is not None:\n",
    "            power_high = float(power_high)\n",
    "        if onPower is not None:\n",
    "            onPower = float(onPower)\n",
    "        if offPower is not None:\n",
    "            offPower = float(offPower)\n",
    "        if onDuration is not None:\n",
    "            onDuration = float(onDuration)\n",
    "        if offDuration is not None:\n",
    "            offDuration = float(offDuration)\n",
    "        if repeat is not None:\n",
    "            repeat = int(repeat)\n",
    "            \n",
    "        interval_data = {\n",
    "            \"type\": type,\n",
    "            \"duration\": duration,\n",
    "            \"power\": power,\n",
    "            \"powerLow\": power_low,\n",
    "            \"powerHigh\": power_high,\n",
    "            \"onPower\": onPower,\n",
    "            \"offPower\": offPower,\n",
    "            \"onDuration\": onDuration,\n",
    "            \"offDuration\": offDuration,\n",
    "            \"repeat\": repeat\n",
    "        }\n",
    "        workout_data.append(interval_data)\n",
    "\n",
    "    return workout_data\n"
   ]
  },
  {
   "cell_type": "code",
   "execution_count": 6,
   "metadata": {},
   "outputs": [],
   "source": [
    "def color(power):\n",
    "    if power <= 59:\n",
    "        color = 'grey'\n",
    "    elif power<=75:\n",
    "        color = 'blue'\n",
    "    elif power<=89:\n",
    "        color = 'green'\n",
    "    elif power<=104:\n",
    "        color = 'yellow'\n",
    "    elif power<=118:\n",
    "        color = 'orange'   \n",
    "    else:\n",
    "        color = 'red'\n",
    "    return color   "
   ]
  },
  {
   "cell_type": "code",
   "execution_count": 117,
   "metadata": {},
   "outputs": [
    {
     "name": "stdout",
     "output_type": "stream",
     "text": [
      "[5, 6, 0, 0, 0, 0]\n"
     ]
    }
   ],
   "source": [
    "def split_interval_into_buckets(interval, buckets = [[0, 59], [60, 75], [76, 89], [90, 104], [105, 118],[119,1000]]):\n",
    "  start, end = interval\n",
    "  counts = [0] * len(buckets)  # Initialize counts for each bucket\n",
    "\n",
    "  # Loop through each bucket\n",
    "  for i, bucket in enumerate(buckets):\n",
    "    bucket_start, bucket_end = bucket\n",
    "    # Check if the interval overlaps with the current bucket\n",
    "    if start <= bucket_end and end >= bucket_start:  # Adjusted condition\n",
    "      # Calculate the overlap within the bucket\n",
    "      overlap_start = max(start, bucket_start)\n",
    "      overlap_end = min(end, bucket_end)\n",
    "      # Increment the count for the current bucket based on the overlap\n",
    "      counts[i] += overlap_end - overlap_start + 1\n",
    "\n",
    "  return counts\n",
    "\n",
    "# Example usage\n",
    "interval = [65, 55]\n",
    "buckets = [[0, 59], [60, 75], [76, 89], [90, 104], [105, 118],[119,1000]]\n",
    "counts = split_interval_into_buckets(sorted(interval), buckets)\n",
    "\n",
    "print(counts)  # Output: [16, 10, 15] (assuming 0-based indexing)\n"
   ]
  },
  {
   "cell_type": "code",
   "execution_count": 131,
   "metadata": {},
   "outputs": [
    {
     "name": "stdout",
     "output_type": "stream",
     "text": [
      "5\n",
      "4\n",
      "3\n",
      "2\n",
      "1\n",
      "0\n"
     ]
    }
   ],
   "source": [
    "for i in reversed(range(6)):\n",
    "    print(i)"
   ]
  },
  {
   "cell_type": "code",
   "execution_count": 133,
   "metadata": {},
   "outputs": [
    {
     "data": {
      "text/plain": [
       "['<Tooltip label = \" 2:30min ramp from 60% to 40%\">\\n    <path d=\"M 100 0 L 100 60.0 L 100.71428571428571 59.0 L 100.71428571428571 0 0 Z\" fill=\"blue\" stroke=\"blue\" />\\n    </Tooltip>',\n",
       " '<Tooltip label = \" 2:30min ramp from 60% to 40%\">\\n    <path d=\"M 100.71428571428571 0 L 100.71428571428571 59.0 L 115.0 38.99999999999999 L 115.0 0 0 Z\" fill=\"grey\" stroke=\"grey\" />\\n    </Tooltip>']"
      ]
     },
     "execution_count": 133,
     "metadata": {},
     "output_type": "execute_result"
    }
   ],
   "source": [
    "time = 100\n",
    "duration = 150\n",
    "powerLeft = 0.6\n",
    "powerRight = 0.4\n",
    "timeScale=0.1\n",
    "\n",
    "d = datetime.timedelta(seconds=round(duration))\n",
    "d = '{:2d}:{:02d}'.format(d.seconds // 60, d.seconds % 60)\n",
    "def pathDef(time, duration, powerLeft_, powerRight_, timeScale, color):\n",
    "    path_ = f\"\"\"<Tooltip label = \"{d}min ramp from {round(powerLeft*100)}% to {round(powerRight*100)}%\">\n",
    "    <path d=\"M {time} 0 L {time} {powerLeft_*100} L {time + duration*timeScale} {powerRight_*100} L {time + duration*timeScale} {0} 0 Z\" fill=\"{color}\" stroke=\"{color}\" />\n",
    "    </Tooltip>\"\"\"\n",
    "    return path_\n",
    "\n",
    "dur_pow = duration/(abs(powerLeft - powerRight)*100+1)\n",
    "\n",
    "path = []\n",
    "powerStart = powerLeft\n",
    "for i in reversed(range(6)):\n",
    "    part = split_interval_into_buckets(sorted([powerLeft*100, powerRight*100]))[i]\n",
    "    if part > 0:\n",
    "        path.append(pathDef(time, part * dur_pow, powerStart,powerStart-part/100, timeScale, color(buckets[i][1])))\n",
    "        powerStart = powerStart - part/100\n",
    "        time = time + part*dur_pow * timeScale\n",
    "path"
   ]
  },
  {
   "cell_type": "code",
   "execution_count": 110,
   "metadata": {},
   "outputs": [
    {
     "data": {
      "text/plain": [
       "list"
      ]
     },
     "execution_count": 110,
     "metadata": {},
     "output_type": "execute_result"
    }
   ],
   "source": [
    "type(sorted([powerLeft*100, powerRight*100]))"
   ]
  },
  {
   "cell_type": "code",
   "execution_count": 91,
   "metadata": {},
   "outputs": [
    {
     "data": {
      "text/plain": [
       "[4.999999999999993, 1.0, 0, 0, 0, 0]"
      ]
     },
     "execution_count": 91,
     "metadata": {},
     "output_type": "execute_result"
    }
   ],
   "source": [
    "split_interval_into_buckets(sorted([powerLeft*100, powerRight*100]))"
   ]
  },
  {
   "cell_type": "code",
   "execution_count": 79,
   "metadata": {},
   "outputs": [
    {
     "data": {
      "text/plain": [
       "['<Tooltip label = \" 2:30min ramp from 50% to 100%\">\\n    <path d=\"M 115.0 0 L 115.0 50.0 L 117.94117647058823 60.0 L 117.94117647058823 0 0 Z\" fill=\"grey\" stroke=\"grey\" />\\n    </Tooltip>',\n",
       " '<Tooltip label = \" 2:30min ramp from 50% to 100%\">\\n    <path d=\"M 117.94117647058823 0 L 117.94117647058823 60.0 L 122.6470588235294 76.0 L 122.6470588235294 0 0 Z\" fill=\"blue\" stroke=\"blue\" />\\n    </Tooltip>',\n",
       " '<Tooltip label = \" 2:30min ramp from 50% to 100%\">\\n    <path d=\"M 122.6470588235294 0 L 122.6470588235294 76.0 L 126.76470588235294 90.0 L 126.76470588235294 0 0 Z\" fill=\"green\" stroke=\"green\" />\\n    </Tooltip>',\n",
       " '<Tooltip label = \" 2:30min ramp from 50% to 100%\">\\n    <path d=\"M 126.76470588235294 0 L 126.76470588235294 90.0 L 130.0 101.0 L 130.0 0 0 Z\" fill=\"yellow\" stroke=\"yellow\" />\\n    </Tooltip>']"
      ]
     },
     "execution_count": 79,
     "metadata": {},
     "output_type": "execute_result"
    }
   ],
   "source": []
  },
  {
   "cell_type": "code",
   "execution_count": 134,
   "metadata": {},
   "outputs": [],
   "source": [
    "def box(time, duration, power, timeScale):\n",
    "    d = datetime.timedelta(seconds=round(duration))\n",
    "    d = '{:2d}:{:02d}'.format(d.seconds // 60, d.seconds % 60)\n",
    "       \n",
    "    path = f\"\"\"<Tooltip label = \"{d}min @{round(power*100)}%\">\n",
    "    <path d=\"M {time} 0 L {time} {power*100} L {time + duration*timeScale} {power*100} L {time + duration*timeScale} {0} 0 Z\" fill=\"{color(power*100)}\" stroke=\"{color(power*100)}\" />\n",
    "    </Tooltip>\"\"\"\n",
    "    return path\n",
    "\n",
    "def trapez(time, duration, powerLeft, powerRight, timeScale):\n",
    "    d = datetime.timedelta(seconds=round(duration))\n",
    "    d = '{:2d}:{:02d}'.format(d.seconds // 60, d.seconds % 60)\n",
    "    def pathDef(time, duration, powerLeft_, powerRight_, timeScale, color):\n",
    "        path_ = f\"\"\"<Tooltip label = \"{d}min ramp from {round(powerLeft*100)}% to {round(powerRight*100)}%\">\n",
    "        <path d=\"M {time} 0 L {time} {powerLeft_*100} L {time + duration*timeScale} {powerRight_*100} L {time + duration*timeScale} {0} 0 Z\" fill=\"{color}\" stroke=\"{color}\" />\n",
    "        </Tooltip>\"\"\"\n",
    "        return path_\n",
    "    dur_pow = duration/(abs(powerLeft - powerRight)*100+1)\n",
    "    path = []\n",
    "    powerStart = powerLeft\n",
    "    if powerLeft > powerRight:\n",
    "        for i in reversed(range(6)):\n",
    "            part = split_interval_into_buckets(sorted([powerLeft*100, powerRight*100]))[i]\n",
    "            if part > 0:\n",
    "                path.append(pathDef(time, part * dur_pow, powerStart,powerStart-part/100, timeScale, color(buckets[i][1])))\n",
    "                powerStart = powerStart - part/100\n",
    "                time = time + part*dur_pow * timeScale\n",
    "    else:\n",
    "        for i in range(6):\n",
    "            part = split_interval_into_buckets(sorted([powerLeft*100, powerRight*100]))[i]\n",
    "            if part > 0:\n",
    "                path.append(pathDef(time, part * dur_pow, powerStart,powerStart+part/100, timeScale, color(buckets[i][1])))\n",
    "                powerStart = powerStart + part/100\n",
    "                time = time + part*dur_pow * timeScale\n",
    "        \n",
    "    return path\n",
    "    "
   ]
  },
  {
   "cell_type": "code",
   "execution_count": 135,
   "metadata": {},
   "outputs": [],
   "source": [
    "def generate_paths(workout_data):\n",
    "    paths = []\n",
    "    totalTime = 0\n",
    "    intervals = 0\n",
    "    gap = 2\n",
    "    \n",
    "    for interval in workout_data:\n",
    "        type = interval['type']\n",
    "        duration = interval.get('duration', None)\n",
    "        onDuration = interval.get('onDuration', None)\n",
    "        offDuration = interval.get('offDuration', None)\n",
    "        repeat = interval.get('repeat', None)\n",
    "                \n",
    "        if type in [\"SteadyState\",\"Ramp\",\"Cooldown\"]:\n",
    "            totalTime = totalTime + duration\n",
    "            intervals = intervals + 1\n",
    "        if type == \"IntervalsT\":\n",
    "            totalTime = totalTime + repeat*(onDuration + offDuration)\n",
    "            intervals = intervals + repeat*2\n",
    "    timeScale = (1000 - intervals * gap)/totalTime\n",
    "    print(totalTime)\n",
    "    \n",
    "    time = 0\n",
    "    for interval in workout_data:\n",
    "        type = interval['type']\n",
    "        duration = interval.get('duration', None)\n",
    "        power = interval.get('power', None)\n",
    "        powerLow = interval.get('powerLow', None)\n",
    "        powerHigh = interval.get('powerHigh', None)\n",
    "        onPower = interval.get('onPower', None)\n",
    "        offPower = interval.get('offPower', None)\n",
    "        onDuration = interval.get('onDuration', None)\n",
    "        offDuration = interval.get('offDuration', None)\n",
    "        repeat = interval.get('repeat', None)\n",
    "        \n",
    "        \n",
    "        if type == \"SteadyState\":\n",
    "            path = box(time, duration, power, timeScale)\n",
    "            paths.append(path)\n",
    "            time = time + duration*timeScale + gap\n",
    "        if type in [\"Ramp\",\"Cooldown\"]:\n",
    "            path = trapez(time, duration, powerLow, powerHigh, timeScale)\n",
    "            paths.extend(path)\n",
    "            time = time + duration*timeScale + gap\n",
    "        if type == \"IntervalsT\":\n",
    "            \n",
    "            for i in range(repeat):\n",
    "                path = box(time, onDuration, onPower, timeScale)\n",
    "                paths.append(path)\n",
    "                time = time + onDuration*timeScale + gap\n",
    "                path = box(time, offDuration, offPower, timeScale)\n",
    "                paths.append(path)\n",
    "                time = time + offDuration*timeScale + gap\n",
    "    \n",
    "            \n",
    "    return paths\n"
   ]
  },
  {
   "cell_type": "code",
   "execution_count": 164,
   "metadata": {},
   "outputs": [
    {
     "data": {
      "text/plain": [
       "'Zone 2 training is one of the most important aspects of any training plan. We do not always get faster by training faster.\\n\\nIn Zone 2 training we are stimulating your type I muscle fibers - slow twitch.\\n\\nSpending time in Zone 2 is absolutely essential to improving performance. This workout is a mashup of shorter zone 2 workouts (Zone 2 £#1, Cadence Pyramid & Aerobic Threshold Development) to get a long and varied zone 2 workout.'"
      ]
     },
     "execution_count": 164,
     "metadata": {},
     "output_type": "execute_result"
    }
   ],
   "source": [
    "root.find('description').text"
   ]
  },
  {
   "cell_type": "code",
   "execution_count": 165,
   "metadata": {},
   "outputs": [],
   "source": [
    "def generate_svg(paths):\n",
    "    svg_start = \"\"\"\n",
    "    import {Box, Tooltip, Heading, Text} from '@chakra-ui/react'\n",
    "    import './css/Workout.css'\n",
    "\n",
    "    export const WorkoutGraphSVG = () => (\n",
    "    <div>\n",
    "    <Heading as ='h2' >Description</Heading>\n",
    "    <Text>\"\"\"\n",
    "    svg_des = root.find('description').text\n",
    "    svg_middle = \"\"\"</Text>\n",
    "    <Box as='svg'\n",
    "    viewBox='0 0 1000 100'\n",
    "    width='100%'\n",
    "    height={'auto'}\n",
    "    transform= 'scaleY(-1)'>\n",
    "    <svg>\"\"\"\n",
    "    svg_end = \"</svg></Box></div>);\"\n",
    "    svg_content = \"\\n\".join(paths)\n",
    "    return svg_start + svg_des + svg_middle +  svg_content + svg_end"
   ]
  },
  {
   "cell_type": "code",
   "execution_count": 166,
   "metadata": {},
   "outputs": [],
   "source": [
    "def save_svg_to_tsx(svg_content, file_path):\n",
    "    with open(file_path, 'w') as f:\n",
    "        f.write(svg_content)"
   ]
  },
  {
   "cell_type": "code",
   "execution_count": 167,
   "metadata": {},
   "outputs": [
    {
     "name": "stdout",
     "output_type": "stream",
     "text": [
      "7200.000236000003\n"
     ]
    }
   ],
   "source": [
    "# Example usage\n",
    "workout_file = r'C:\\Users\\Chris\\OneDrive\\Dokumenter\\React\\dzr\\public\\in-the-zone-2\\InTheZone2_1.zwo'\n",
    "workout_data = parse_workout_file(workout_file)\n",
    "svg_paths = generate_paths(workout_data)\n",
    "svg_content = generate_svg(svg_paths)\n",
    "\n",
    "file_path = r'C:\\Users\\Chris\\OneDrive\\Dokumenter\\React\\dzr\\app\\in-the-zone-2\\workouts\\nextWorkout.tsx'\n",
    "save_svg_to_tsx(svg_content, file_path)\n",
    "\n",
    "# Now you can use svg_paths to embed the SVG paths in your SVG container or save them to an SVG file.\n",
    "# For example, you can join the svg_paths list into a single string and embed it in an SVG element in an HTML document.\n"
   ]
  },
  {
   "cell_type": "code",
   "execution_count": null,
   "metadata": {},
   "outputs": [],
   "source": []
  }
 ],
 "metadata": {
  "kernelspec": {
   "display_name": "py311",
   "language": "python",
   "name": "python3"
  },
  "language_info": {
   "codemirror_mode": {
    "name": "ipython",
    "version": 3
   },
   "file_extension": ".py",
   "mimetype": "text/x-python",
   "name": "python",
   "nbconvert_exporter": "python",
   "pygments_lexer": "ipython3",
   "version": "3.11.5"
  }
 },
 "nbformat": 4,
 "nbformat_minor": 2
}
